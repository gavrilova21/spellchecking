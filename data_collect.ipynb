{
 "cells": [
  {
   "cell_type": "markdown",
   "id": "3082bde6",
   "metadata": {},
   "source": [
    "# СОЦИАЛЬНЫЕ МЕДИА"
   ]
  },
  {
   "cell_type": "code",
   "execution_count": 376,
   "id": "5267ae08",
   "metadata": {},
   "outputs": [],
   "source": [
    "with open('files/corrected_sents.txt') as f:\n",
    "    contents = [x.strip() for x in f.readlines()]"
   ]
  },
  {
   "cell_type": "code",
   "execution_count": 2,
   "id": "2fd4e390",
   "metadata": {},
   "outputs": [
    {
     "data": {
      "text/plain": [
       "['очень классная тетка кто бы что ни говорил',\n",
       " 'Может выгоднее втулку продать и купить колесо в сборе',\n",
       " 'Довольно большая часть пришедших сходила с дорожек и усаживалась на траву',\n",
       " 'Симпатичнейшее шпионское устройство такой себе гламурный фотоаппарат девушки Бонда миниатюрная модель камеры Superheadz Clap Camera',\n",
       " 'Апофеозом дня для меня сегодня стала фраза услышанная в новостях',\n",
       " 'Ну не было поста так не было',\n",
       " 'Хотя странно когда я забирала к себе на выходные старого кота который живет у родителей да и собаку в придачу то такого концерта мой кот не устраивал',\n",
       " 'Думаю что лет через 10 ретроспективно просматривать это будет мне невероятно интересно',\n",
       " 'Зато я считаю что это будет полезно и для меня и для всех тех кто меня окружает ведь когда расстаешься с человеком на какое-то время то многое становится прозрачным я имею ввиду мы начинаем понимать какое место в нашей повседневности занимает этот человек',\n",
       " 'Поясним эту мысль']"
      ]
     },
     "execution_count": 2,
     "metadata": {},
     "output_type": "execute_result"
    }
   ],
   "source": [
    "contents[:10]"
   ]
  },
  {
   "cell_type": "code",
   "execution_count": 5,
   "id": "379b268c",
   "metadata": {},
   "outputs": [
    {
     "data": {
      "image/png": "[encoded data removed]",
      "text/plain": [
       "<Figure size 432x288 with 1 Axes>"
      ]
     },
     "metadata": {
      "needs_background": "light"
     },
     "output_type": "display_data"
    }
   ],
   "source": [
    "from matplotlib import pyplot as plt\n",
    "plt.hist(list(map(len,contents)), bins=200);"
   ]
  },
  {
   "cell_type": "code",
   "execution_count": 6,
   "id": "1ad88ed1",
   "metadata": {},
   "outputs": [
    {
     "data": {
      "text/plain": [
       "2000"
      ]
     },
     "execution_count": 6,
     "metadata": {},
     "output_type": "execute_result"
    }
   ],
   "source": [
    "len(contents)"
   ]
  },
  {
   "cell_type": "markdown",
   "id": "4bbc733a",
   "metadata": {},
   "source": [
    "# СУБТИТРЫ"
   ]
  },
  {
   "cell_type": "code",
   "execution_count": 378,
   "id": "f6e5121d",
   "metadata": {},
   "outputs": [
    {
     "name": "stdout",
     "output_type": "stream",
     "text": [
      "[1501, 1262, 194, 36, 7, 0, 0]\n",
      "[1501, 1262, 194, 36, 7, 0, 0]\n",
      "[1501, 1262, 194, 36, 7, 0, 0]\n",
      "[1501, 1262, 194, 36, 7, 0, 0]\n",
      "[1501, 1262, 194, 36, 7, 0, 0]\n",
      "[1501, 1262, 194, 36, 7, 0, 0]\n",
      "[1501, 1501, 1501, 1152, 258, 45, 42]\n"
     ]
    }
   ],
   "source": [
    "count =0\n",
    "subs = []\n",
    "counts = [0 for i in range(7)]\n",
    "with open('files/OpenSubtitles.en-ru.ru') as f:\n",
    "    while True:\n",
    "        line = f.readline().strip()\n",
    "        if not line:\n",
    "            break\n",
    "        for i in range(7):\n",
    "            if ((len(line)<=50+i*50) and(len(line)>i*50)):\n",
    "                if (counts[i]<=1500):\n",
    "                    subs.append(line)\n",
    "                    counts[i]+=1\n",
    "            elif(len(line)>6*50):\n",
    "                subs.append(line)\n",
    "                counts[-1]+=1\n",
    "        if (sum(counts))>=7*1500:\n",
    "            break\n",
    "        if((sum(counts))%3000==0):\n",
    "            print(counts)"
   ]
  },
  {
   "cell_type": "code",
   "execution_count": 379,
   "id": "e932b1bf",
   "metadata": {},
   "outputs": [
    {
     "data": {
      "text/plain": [
       "10500"
      ]
     },
     "execution_count": 379,
     "metadata": {},
     "output_type": "execute_result"
    }
   ],
   "source": [
    "sum(counts)"
   ]
  },
  {
   "cell_type": "code",
   "execution_count": 56,
   "id": "0f2306eb",
   "metadata": {},
   "outputs": [
    {
     "data": {
      "text/plain": [
       "[1501, 1501, 1501, 1501, 1501, 1035, 1960]"
      ]
     },
     "execution_count": 56,
     "metadata": {},
     "output_type": "execute_result"
    }
   ],
   "source": [
    "counts"
   ]
  },
  {
   "cell_type": "code",
   "execution_count": 59,
   "id": "87f34a54",
   "metadata": {},
   "outputs": [],
   "source": [
    "subs = list(set(subs))"
   ]
  },
  {
   "cell_type": "code",
   "execution_count": 60,
   "id": "21382a4f",
   "metadata": {},
   "outputs": [
    {
     "data": {
      "text/plain": [
       "8600"
      ]
     },
     "execution_count": 60,
     "metadata": {},
     "output_type": "execute_result"
    }
   ],
   "source": [
    "len(subs)"
   ]
  },
  {
   "cell_type": "code",
   "execution_count": 76,
   "id": "4304b8e1",
   "metadata": {},
   "outputs": [],
   "source": [
    "subs = list(filter(lambda x: not(('ьι' in x) or ('€' in x) or ('#' in x)), subs))"
   ]
  },
  {
   "cell_type": "code",
   "execution_count": 77,
   "id": "6ebb2c42",
   "metadata": {},
   "outputs": [
    {
     "data": {
      "text/plain": [
       "8123"
      ]
     },
     "execution_count": 77,
     "metadata": {},
     "output_type": "execute_result"
    }
   ],
   "source": [
    "len(subs)"
   ]
  },
  {
   "cell_type": "code",
   "execution_count": 78,
   "id": "51c4f042",
   "metadata": {},
   "outputs": [
    {
     "data": {
      "image/png": "[encoded data removed]",
      "text/plain": [
       "<Figure size 432x288 with 1 Axes>"
      ]
     },
     "metadata": {
      "needs_background": "light"
     },
     "output_type": "display_data"
    }
   ],
   "source": [
    "plt.hist(list(map(len,subs)), bins=200);"
   ]
  },
  {
   "cell_type": "code",
   "execution_count": 287,
   "id": "c3bac8cf",
   "metadata": {},
   "outputs": [
    {
     "data": {
      "text/plain": [
       "['Я позвоню вашим родителям или опекунам ничего вы от меня не получите!',\n",
       " 'Если он хотел нанести тебе этим оскорбление, я думаю, что можно подать иск по статье... 819, да, по 819.',\n",
       " 'Кампания под девизом: \"ОСТАНОВИТЕ ГОУСТВУД!\" направлена на то, чтобы не допустить превращения бесноватыми застройщиками наших прекрасных лесов Северо-Запада в чудовищный парк развлечений и разрушения заповедников, в которых животные мирно обитали на протяжении столетий, этих маленьких миров,служащих',\n",
       " 'Однако визит доблестного самурая Мотоме Чидживы, который не побоялся умереть, совершив харакири, и мы, служащие клана Ии, которые с честью провели ритуал, дабы исполнить его последнюю волю, - все это послужит примером для бесчестных ронинов',\n",
       " 'Но, Френки, я не знал, что это твои деньги, я думал, что забрал бутеры.',\n",
       " 'Ага. Реально жёстко.',\n",
       " '- Возраст?',\n",
       " 'Он там, в том направлении.',\n",
       " 'Сначала они выбирают место недалеко от берега реки, затем, с помощью своих женщин, родителей и друзей, уничтожают растущие там дикие розы и вереск.',\n",
       " 'Раз два, три четыре, пять шесть, семь восемь, девять десять, одиннадцать, двенадцать тринадцать, четырнадцать пятнадцать, шестнадцать семнадцать, восемнадцать девятнадцать, двадцать, двадцать один двадцать два, двадцать три 24, 25, 26 27, 28 29 30 31, 32 33, 34... \"Кричи\" ...35 36, 37 38 39...']"
      ]
     },
     "execution_count": 287,
     "metadata": {},
     "output_type": "execute_result"
    }
   ],
   "source": [
    "subs[:10]"
   ]
  },
  {
   "cell_type": "markdown",
   "id": "905aa6a7",
   "metadata": {},
   "source": [
    "# Новости"
   ]
  },
  {
   "cell_type": "code",
   "execution_count": 119,
   "id": "f1343943",
   "metadata": {},
   "outputs": [
    {
     "name": "stderr",
     "output_type": "stream",
     "text": [
      "[nltk_data] Downloading package punkt to\n",
      "[nltk_data]     /Users/anastasiyagavrilova/nltk_data...\n",
      "[nltk_data]   Package punkt is already up-to-date!\n"
     ]
    },
    {
     "data": {
      "text/plain": [
       "True"
      ]
     },
     "execution_count": 119,
     "metadata": {},
     "output_type": "execute_result"
    }
   ],
   "source": [
    "import nltk\n",
    "nltk.download('punkt')"
   ]
  },
  {
   "cell_type": "code",
   "execution_count": 120,
   "id": "416415cb",
   "metadata": {},
   "outputs": [],
   "source": [
    "import pandas as pd\n",
    "df = pd.read_csv('news.csv',  usecols=['text'],nrows=5000)"
   ]
  },
  {
   "cell_type": "code",
   "execution_count": 121,
   "id": "40cebbb7",
   "metadata": {},
   "outputs": [
    {
     "data": {
      "text/html": [
       "<div>\n",
       "<style scoped>\n",
       "    .dataframe tbody tr th:only-of-type {\n",
       "        vertical-align: middle;\n",
       "    }\n",
       "\n",
       "    .dataframe tbody tr th {\n",
       "        vertical-align: top;\n",
       "    }\n",
       "\n",
       "    .dataframe thead th {\n",
       "        text-align: right;\n",
       "    }\n",
       "</style>\n",
       "<table border=\"1\" class=\"dataframe\">\n",
       "  <thead>\n",
       "    <tr style=\"text-align: right;\">\n",
       "      <th></th>\n",
       "      <th>text</th>\n",
       "    </tr>\n",
       "  </thead>\n",
       "  <tbody>\n",
       "    <tr>\n",
       "      <th>0</th>\n",
       "      <td>В 1930-е годы Советский Союз охватила лихорадк...</td>\n",
       "    </tr>\n",
       "    <tr>\n",
       "      <th>1</th>\n",
       "      <td>Олимпийская чемпионка по фигурному катанию  Ал...</td>\n",
       "    </tr>\n",
       "    <tr>\n",
       "      <th>2</th>\n",
       "      <td>Российский врач-диетолог Римма Мойсенко объясн...</td>\n",
       "    </tr>\n",
       "    <tr>\n",
       "      <th>3</th>\n",
       "      <td>В 2019 году телеканал «Ю» запустил адаптацию з...</td>\n",
       "    </tr>\n",
       "    <tr>\n",
       "      <th>4</th>\n",
       "      <td>Актер  Михаил Ефремов  систематически употребл...</td>\n",
       "    </tr>\n",
       "    <tr>\n",
       "      <th>...</th>\n",
       "      <td>...</td>\n",
       "    </tr>\n",
       "    <tr>\n",
       "      <th>4995</th>\n",
       "      <td>ЦБ против того, чтобы облегчить МВД доступ к б...</td>\n",
       "    </tr>\n",
       "    <tr>\n",
       "      <th>4996</th>\n",
       "      <td>В Москве за сутки умерли 67 пациентов с корона...</td>\n",
       "    </tr>\n",
       "    <tr>\n",
       "      <th>4997</th>\n",
       "      <td>Число официально зарегистрированных безработны...</td>\n",
       "    </tr>\n",
       "    <tr>\n",
       "      <th>4998</th>\n",
       "      <td>28 апреля в ютьюбе прошел онлайн-митинг «За жи...</td>\n",
       "    </tr>\n",
       "    <tr>\n",
       "      <th>4999</th>\n",
       "      <td>Организаторы «Оскара» объявили, что в связи с ...</td>\n",
       "    </tr>\n",
       "  </tbody>\n",
       "</table>\n",
       "<p>5000 rows × 1 columns</p>\n",
       "</div>"
      ],
      "text/plain": [
       "                                                   text\n",
       "0     В 1930-е годы Советский Союз охватила лихорадк...\n",
       "1     Олимпийская чемпионка по фигурному катанию  Ал...\n",
       "2     Российский врач-диетолог Римма Мойсенко объясн...\n",
       "3     В 2019 году телеканал «Ю» запустил адаптацию з...\n",
       "4     Актер  Михаил Ефремов  систематически употребл...\n",
       "...                                                 ...\n",
       "4995  ЦБ против того, чтобы облегчить МВД доступ к б...\n",
       "4996  В Москве за сутки умерли 67 пациентов с корона...\n",
       "4997  Число официально зарегистрированных безработны...\n",
       "4998  28 апреля в ютьюбе прошел онлайн-митинг «За жи...\n",
       "4999  Организаторы «Оскара» объявили, что в связи с ...\n",
       "\n",
       "[5000 rows x 1 columns]"
      ]
     },
     "execution_count": 121,
     "metadata": {},
     "output_type": "execute_result"
    }
   ],
   "source": [
    "df"
   ]
  },
  {
   "cell_type": "code",
   "execution_count": 122,
   "id": "d6a17a67",
   "metadata": {},
   "outputs": [
    {
     "name": "stdout",
     "output_type": "stream",
     "text": [
      "[799, 1501, 1501, 818, 273, 87, 21]\n",
      "[1501, 1501, 1501, 1501, 721, 214, 61]\n",
      "[1501, 1501, 1501, 1501, 721, 214, 61]\n",
      "[1501, 1501, 1501, 1501, 721, 214, 61]\n",
      "[1501, 1501, 1501, 1501, 1444, 436, 116]\n",
      "[1501, 1501, 1501, 1501, 1444, 436, 116]\n",
      "[1501, 1501, 1501, 1501, 1444, 436, 116]\n",
      "[1501, 1501, 1501, 1501, 1444, 436, 116]\n"
     ]
    }
   ],
   "source": [
    "from unicodedata import normalize\n",
    "normalize('NFKD', s)\n",
    "\n",
    "counts = [0 for i in range(7)]\n",
    "sents_news = []\n",
    "for i, text in df.iterrows():\n",
    "    lines = tokenize.sent_tokenize(text['text'])\n",
    "    for line in lines:\n",
    "        for i in range(7):\n",
    "            if ((len(line)<=50+i*50) and(len(line)>i*50)):\n",
    "                if (counts[i]<=1500):\n",
    "                    sents_news.append(normalize('NFKD', line))\n",
    "                    counts[i]+=1\n",
    "                    break\n",
    "            elif(len(line)>6*50):\n",
    "                sents_news.append(normalize('NFKD', line))\n",
    "    if (sum(counts))>=7*1500:\n",
    "        break\n",
    "    if((sum(counts))%1000==0):\n",
    "        print(counts)"
   ]
  },
  {
   "cell_type": "code",
   "execution_count": 123,
   "id": "d1ba1be5",
   "metadata": {},
   "outputs": [],
   "source": [
    "# sents = []\n",
    "# from nltk import tokenize\n",
    "# for i, text in df.iterrows():\n",
    "#     sents +=tokenize.sent_tokenize(text['text'])"
   ]
  },
  {
   "cell_type": "code",
   "execution_count": 285,
   "id": "ee88b485",
   "metadata": {},
   "outputs": [
    {
     "data": {
      "text/plain": [
       "['Прописанный с какой-то толстовской обстоятельностью, свободой и раздумчивостью.',\n",
       " 'Он выложил скриншот первого сообщения от звезды, в котором она спросила, можно ли сделать нечто особенное с ножами, которые она заказала на платформе Etsy.',\n",
       " 'После этого она добавила 200 граммов томатной пасты, чашку красного вина, чашку мясного бульона, чабрец и приготовленные раннее лук и чеснок, готовила их пять минут и оставила на малом огне еще на час.',\n",
       " 'В Белоруссии 9 августа прошли президентские выборы.',\n",
       " 'Нам с детства внушали, что мы самые счастливые, потому что родились и живём в самой лучшей стране, СССР!',\n",
       " 'Задержаны несколько тысяч человек.',\n",
       " 'На этой неделе доллар  подбирался  к уровню 76 рублей, а евро доходил до 89,4 рубля.',\n",
       " '4 июля стало известно о его смерти.',\n",
       " 'На кадре он стоит у Дворца независимости.',\n",
       " 'Игрока в американский футбол Сенкеса Джермэйна Перри убили во сне.']"
      ]
     },
     "execution_count": 285,
     "metadata": {},
     "output_type": "execute_result"
    }
   ],
   "source": [
    "sents_news = list(set(sents_news))\n",
    "sents_news[:10]"
   ]
  },
  {
   "cell_type": "code",
   "execution_count": 125,
   "id": "761dd72a",
   "metadata": {},
   "outputs": [
    {
     "data": {
      "image/png": "[encoded data removed]",
      "text/plain": [
       "<Figure size 432x288 with 1 Axes>"
      ]
     },
     "metadata": {
      "needs_background": "light"
     },
     "output_type": "display_data"
    }
   ],
   "source": [
    "plt.hist(list(map(len,sents_news)), bins=200);"
   ]
  },
  {
   "cell_type": "code",
   "execution_count": 126,
   "id": "d834b3de",
   "metadata": {},
   "outputs": [
    {
     "data": {
      "text/plain": [
       "8634"
      ]
     },
     "execution_count": 126,
     "metadata": {},
     "output_type": "execute_result"
    }
   ],
   "source": [
    "len(sents_news)"
   ]
  },
  {
   "cell_type": "markdown",
   "id": "b44a0573",
   "metadata": {},
   "source": [
    "# ЛИТЕРАТУРА"
   ]
  },
  {
   "cell_type": "code",
   "execution_count": 104,
   "id": "0b1bf731",
   "metadata": {},
   "outputs": [
    {
     "data": {
      "text/html": [
       "<div>\n",
       "<style scoped>\n",
       "    .dataframe tbody tr th:only-of-type {\n",
       "        vertical-align: middle;\n",
       "    }\n",
       "\n",
       "    .dataframe tbody tr th {\n",
       "        vertical-align: top;\n",
       "    }\n",
       "\n",
       "    .dataframe thead th {\n",
       "        text-align: right;\n",
       "    }\n",
       "</style>\n",
       "<table border=\"1\" class=\"dataframe\">\n",
       "  <thead>\n",
       "    <tr style=\"text-align: right;\">\n",
       "      <th></th>\n",
       "      <th>source</th>\n",
       "    </tr>\n",
       "  </thead>\n",
       "  <tbody>\n",
       "    <tr>\n",
       "      <th>0</th>\n",
       "      <td>— И очень хорошо сделали, что не обратились к ...</td>\n",
       "    </tr>\n",
       "    <tr>\n",
       "      <th>1</th>\n",
       "      <td>Чужестранец все прохаживался, но, увидев, что ...</td>\n",
       "    </tr>\n",
       "    <tr>\n",
       "      <th>2</th>\n",
       "      <td>Шипучин. Нет, я не вынесу! (Плачет.) Не вынесу...</td>\n",
       "    </tr>\n",
       "    <tr>\n",
       "      <th>3</th>\n",
       "      <td>— Очень много, — краснея и с глупой, небрежной...</td>\n",
       "    </tr>\n",
       "    <tr>\n",
       "      <th>4</th>\n",
       "      <td>Вечер и вправду складывался весело.</td>\n",
       "    </tr>\n",
       "    <tr>\n",
       "      <th>...</th>\n",
       "      <td>...</td>\n",
       "    </tr>\n",
       "    <tr>\n",
       "      <th>5961</th>\n",
       "      <td>Статуя Я на зов явился.</td>\n",
       "    </tr>\n",
       "    <tr>\n",
       "      <th>5962</th>\n",
       "      <td>— А по батюшке?</td>\n",
       "    </tr>\n",
       "    <tr>\n",
       "      <th>5963</th>\n",
       "      <td>Князь, может быть, и ответил бы что-нибудь на ...</td>\n",
       "    </tr>\n",
       "    <tr>\n",
       "      <th>5964</th>\n",
       "      <td>Они стали говорить о Лизавете. Студент рассказ...</td>\n",
       "    </tr>\n",
       "    <tr>\n",
       "      <th>5965</th>\n",
       "      <td>— Знаете ли, отчего я так рада? — сказала она,...</td>\n",
       "    </tr>\n",
       "  </tbody>\n",
       "</table>\n",
       "<p>5966 rows × 1 columns</p>\n",
       "</div>"
      ],
      "text/plain": [
       "                                                 source\n",
       "0     — И очень хорошо сделали, что не обратились к ...\n",
       "1     Чужестранец все прохаживался, но, увидев, что ...\n",
       "2     Шипучин. Нет, я не вынесу! (Плачет.) Не вынесу...\n",
       "3     — Очень много, — краснея и с глупой, небрежной...\n",
       "4                   Вечер и вправду складывался весело.\n",
       "...                                                 ...\n",
       "5961                            Статуя Я на зов явился.\n",
       "5962                                    — А по батюшке?\n",
       "5963  Князь, может быть, и ответил бы что-нибудь на ...\n",
       "5964  Они стали говорить о Лизавете. Студент рассказ...\n",
       "5965  — Знаете ли, отчего я так рада? — сказала она,...\n",
       "\n",
       "[5966 rows x 1 columns]"
      ]
     },
     "execution_count": 104,
     "metadata": {},
     "output_type": "execute_result"
    }
   ],
   "source": [
    "df = pd.read_csv('files/zlatoust_paragraph_aligned_with_bleualign.csv', usecols=['source'])\n",
    "df"
   ]
  },
  {
   "cell_type": "code",
   "execution_count": 115,
   "id": "bf472b7f",
   "metadata": {},
   "outputs": [
    {
     "name": "stdout",
     "output_type": "stream",
     "text": [
      "[498, 245, 145, 70, 22, 15, 5]\n",
      "[1010, 504, 262, 125, 53, 35, 11]\n",
      "[1501, 1501, 1501, 820, 398, 185, 94]\n",
      "[1501, 1501, 1501, 820, 398, 185, 94]\n",
      "[1501, 1501, 1501, 820, 398, 185, 94]\n"
     ]
    }
   ],
   "source": [
    "counts = [0 for i in range(7)]\n",
    "sents_litre = []\n",
    "for i, text in df.iterrows():\n",
    "    lines = tokenize.sent_tokenize(text['source'])\n",
    "    for line in lines:\n",
    "        for i in range(7):\n",
    "            if ((len(line)<=50+i*50) and(len(line)>i*50)):\n",
    "                if (counts[i]<=1500):\n",
    "                    sents_litre.append(normalize('NFKD', line))\n",
    "                    counts[i]+=1\n",
    "                    break\n",
    "            elif(len(line)>6*50):\n",
    "                sents_litre.append(normalize('NFKD', line))\n",
    "    if (sum(counts))>=7*1500:\n",
    "        break\n",
    "    if((sum(counts))%1000==0):\n",
    "        print(counts)"
   ]
  },
  {
   "cell_type": "code",
   "execution_count": 286,
   "id": "01855729",
   "metadata": {},
   "outputs": [
    {
     "data": {
      "text/plain": [
       "['И он задумался о том, где ему окончить нынешний вечер.',\n",
       " 'Можно просидеть несколько часов, поджав ноги в одном и том же положении, если знаешь, что ничто не помешает переменить положение; но если человек знает, что он должен сидеть так с поджатыми ногами, то сделаются судороги, ноги будут дергаться и тискаться в то место, куда бы он хотел вытянуть их.',\n",
       " 'И вдруг совершенно другая, не боль, а общая мучительная внутренняя неловкость заставила его забыть на мгновение боль зуба.',\n",
       " 'А все те же звуки раздаются с бастионов, все так же — с невольным трепетом и суеверным страхом — смотрят в ясный вечер французы из своего лагеря на желтоватую изрытую землю бастионов Севастополя, на черные движущиеся по ним фигуры наших матросов и считают амбразуры, из которых сердито торчат чугунные пушки; все так же в трубу рассматривает с вышки телеграфа штурманский унтер-офицер пестрые фигуры французов, их батареи, палатки, колонны, движущиеся по Зеленой горе, и дымки, вспыхивающие в траншеях, и все с тем же жаром стремятся с различных сторон света разнородные толпы людей, с еще более разнородными желаниями, к этому роковому месту.',\n",
       " 'А между тем то ли предлагалось тебе?',\n",
       " 'Потом они лопнут, развернутся, зацветут... Ох, хорошо!',\n",
       " '— спросили итальянцы и сделали круглые глаза.',\n",
       " 'И доктор, и акушерка, и Долли, и мать, и в особенности Левин, без ужаса не могший подумать о приближавшемся, начинали испытывать нетерпение и беспокойство; одна Кити чувствовала себя совершенно спокойною и счастливою.',\n",
       " 'Послушаться его писем — значило бы сделать для себя неприятность.',\n",
       " 'Брат Сергей Иванович посоветовал ему прочесть богословские сочинения Хомякова.']"
      ]
     },
     "execution_count": 286,
     "metadata": {},
     "output_type": "execute_result"
    }
   ],
   "source": [
    "sents_litre = list(set(sents_litre))\n",
    "sents_litre[:10] "
   ]
  },
  {
   "cell_type": "code",
   "execution_count": 288,
   "id": "4a25561f",
   "metadata": {},
   "outputs": [
    {
     "data": {
      "text/plain": [
       "7281"
      ]
     },
     "execution_count": 288,
     "metadata": {},
     "output_type": "execute_result"
    }
   ],
   "source": [
    "len(sents_litre)"
   ]
  },
  {
   "cell_type": "code",
   "execution_count": 117,
   "id": "612b3d4a",
   "metadata": {},
   "outputs": [
    {
     "data": {
      "image/png": "[encoded data removed]",
      "text/plain": [
       "<Figure size 432x288 with 1 Axes>"
      ]
     },
     "metadata": {
      "needs_background": "light"
     },
     "output_type": "display_data"
    }
   ],
   "source": [
    "plt.hist(list(map(len,sents_litre)), bins=200);"
   ]
  },
  {
   "cell_type": "markdown",
   "id": "1a376494",
   "metadata": {},
   "source": [
    "# Generate errors"
   ]
  },
  {
   "cell_type": "code",
   "execution_count": 363,
   "id": "691a0f10",
   "metadata": {},
   "outputs": [],
   "source": [
    "SOS = '\\t' \n",
    "EOS = '*' \n",
    "chars = list('йцукенгшщзхъфывапролджэячсмитьбюёЙЦУКЕНГШЩЗХЪЭЖДЛОРПАВЫФЯЧСМИТЬБЮЁ')\n",
    "REMOVE_CHARS = '[#$%\"\\+@<=>!&,-.?:;()*\\[\\]^_`{|}~/\\d\\t\\n\\r\\x0b\\x0c]'\n",
    "\n",
    "import numpy as np \n",
    "import random\n",
    "def add_spelling_errors(token, error_rate=0.5):\n",
    "    \n",
    "    assert(0.0 <= error_rate < 1.0)\n",
    "    if len(token) < 3:\n",
    "        return token\n",
    "    rand = np.random.rand()\n",
    "   \n",
    "    prob = error_rate / 4.0\n",
    "    if rand < prob: # вставка лишнего символа\n",
    "        random_char_index = np.random.randint(len(token))\n",
    "        token = token[:random_char_index] + np.random.choice(chars) \\\n",
    "                + token[random_char_index + 1:]\n",
    "    elif prob < rand < prob * 2: # пропуск символа\n",
    "\n",
    "        random_char_index = np.random.randint(len(token))\n",
    "        token = token[:random_char_index] + token[random_char_index + 1:]\n",
    "    elif prob * 2 < rand < prob * 3: #замена символа\n",
    "        random_char_index = np.random.randint(len(token))\n",
    "        token = token[:random_char_index] + np.random.choice(chars) \\\n",
    "                + token[random_char_index:]\n",
    "    elif prob * 3 < rand < prob * 4: # буквы поменяны местами\n",
    "        random_char_index = np.random.randint(len(token) - 1)\n",
    "        token = token[:random_char_index]  + token[random_char_index + 1] \\\n",
    "                + token[random_char_index] + token[random_char_index + 2:]\n",
    "\n",
    "    return token\n",
    "\n",
    "def add_errors(sent):\n",
    "    num_err = random.randint(1, max(1,len(sent)//10))\n",
    "    \n",
    "    for i in range(num_err):\n",
    "        sent = add_spelling_errors(sent)\n",
    "    return sent"
   ]
  },
  {
   "cell_type": "code",
   "execution_count": 364,
   "id": "54cab64c",
   "metadata": {},
   "outputs": [],
   "source": [
    "# from random import shuffle\n",
    "# shuffle(dataset)"
   ]
  },
  {
   "cell_type": "code",
   "execution_count": 365,
   "id": "e8b2397d",
   "metadata": {},
   "outputs": [],
   "source": [
    "dataset = contents[:2000]+sents_litre[:4000]+sents_news[:4000]+subs[:4000]"
   ]
  },
  {
   "cell_type": "code",
   "execution_count": 366,
   "id": "7da00e89",
   "metadata": {},
   "outputs": [
    {
     "data": {
      "image/png": "[encoded data removed]",
      "text/plain": [
       "<Figure size 432x288 with 1 Axes>"
      ]
     },
     "metadata": {
      "needs_background": "light"
     },
     "output_type": "display_data"
    }
   ],
   "source": [
    "plt.hist(list(map(len,dataset)), bins=200);"
   ]
  },
  {
   "cell_type": "code",
   "execution_count": 367,
   "id": "976448e9",
   "metadata": {},
   "outputs": [
    {
     "data": {
      "text/plain": [
       "14000"
      ]
     },
     "execution_count": 367,
     "metadata": {},
     "output_type": "execute_result"
    }
   ],
   "source": [
    "len(dataset)"
   ]
  },
  {
   "cell_type": "code",
   "execution_count": 368,
   "id": "1c1ce152",
   "metadata": {},
   "outputs": [
    {
     "data": {
      "text/plain": [
       "['В заключение капитолийские волчата, юные итальянцы, продефилировали перед собранием торжественным маршем, а затем приняли участие в обеде, включающем хлеб, прославленные национальные сыры и чашку горячего каркаде.',\n",
       " 'Некоторые вещи требуют доработки.',\n",
       " 'Он сильно расстроился из-за этого и даже ужинал со мной.',\n",
       " 'Что ж, если у тебя нет чувств к нему, тогда ты можешь подойти вон к тому милому парню.',\n",
       " 'Вспомни, она приезжала к той девушке, вышедшей за того парня, родственника тех людей, у которых была на юге дочь?',\n",
       " 'На первый взгляд казалось, здесь невозможно потеряться... на протяжении прямолинейных аллей, среди статуй с застывшими жестами и гранитных плит, где вы теперь уже потерялись навсегда, в тихой ночи одна со мной.',\n",
       " 'Как вам жилось? да и здесь по чистой случайности встретила?',\n",
       " 'Это значит, что мы должны быть готовы работать с нашими соседями, независимо от того, разделяют ли они наши взгляды, принадлежат ли они к другому профсоюзу, или к другой расе.',\n",
       " 'Бретон написал текст под названием \"Дискурс\"... прошу прощения, \"Введение в дискурс недостатка реальности\", в котором предлагал воссоздавать предметы, увиденные во сне, и утверждал, что эти предметы, которые были',\n",
       " 'пощадите нас! я уже получил оплату. найдите своего мужа и спросите у него.',\n",
       " '- Итак, джентльмены используя этот специальный препарат который содержит оксид азота пропуская через определенные фильтры я смогу ввергнуть пациента в безсознательное состояние,',\n",
       " 'Капитану Бенджамину Лафайету Сиско, в знак признания за выдающиеся лидерские качества, за достойное командование в борьбе с врагом, и в особенности, за личную храбрость, проявленную в сражении за взятие \"Дип Спейс 9\", командование звездного флота с гордостью вручает вам',\n",
       " 'Кто-нибудь, пожалуйста, скажите, что за чертовщина тут происходит?',\n",
       " 'Думаю Джерард как раз та причина, почему в семье Арджентов так много зла.',\n",
       " 'Достигнув других миров, отправленные с нашей безнадёжно перенаселённой планеты, зонды нашли планету, подходящую для жизни на ней человека она находится на орибте вокруг звезды Альфа Центавра и является единственной из подходящих планет, которую мы можем достичь используя имеющиеся у нас технологии.',\n",
       " 'Я тебя миллион раз спрашивала, с кем ты спишь, и ты лгала мне.',\n",
       " 'И когда я узнала, что это Джексон, то подумал, что это отличный поворот сюжета.',\n",
       " 'Кому-то кажется, что он видит движущиеся огоньки в небе и вот уже тысячи истерических свидетелей кричат на весь мир и клянутся, что нас атакуют марсиане.',\n",
       " 'Кое-что никогда не меняется, например, твой почерк.',\n",
       " 'участвовал один человек - или Великое Начало Начал.]']"
      ]
     },
     "execution_count": 368,
     "metadata": {},
     "output_type": "execute_result"
    }
   ],
   "source": [
    "dataset[-20:]"
   ]
  },
  {
   "cell_type": "code",
   "execution_count": 369,
   "id": "07c18c2d",
   "metadata": {},
   "outputs": [],
   "source": [
    "with open('files/source_sents.txt') as f:\n",
    "    bad_sents = [x.strip() for x in f.readlines()]"
   ]
  },
  {
   "cell_type": "code",
   "execution_count": 370,
   "id": "c53e0893",
   "metadata": {},
   "outputs": [],
   "source": [
    "for sent in dataset[2000:]:\n",
    "    bad_sents.append(add_errors(sent))"
   ]
  },
  {
   "cell_type": "code",
   "execution_count": 371,
   "id": "262ca609",
   "metadata": {},
   "outputs": [
    {
     "data": {
      "text/plain": [
       "['- Итак, джентльмены используя этот специальный препарат который соедржит оксид азота пропуская через определенныефильтры я смогу ввергнуть пациента в безсознательное состояние,',\n",
       " 'Капитану Бенджамиыну Лафайету Сиско, в знак Жризнаник за выдающиеся лидерские качестван за достойное командование в борьбе с врагом, и в особенности, за лтчную храбрость, проявленную в сражении за взятие \"Дип Спейс 9\", командование звездного флота с гордостью вручает вам',\n",
       " 'Кто-нитудьЫ пожалуйста, скажите, что за чертовина тут происходит?',\n",
       " 'Думаю Джерард как раз та причина, почему в семье Арджентов ток много зла.',\n",
       " 'ДосВигнув других миров, отправленные с нашей безнадёжно перенаселённой планеты, зонды нашли планету, подходящую для жзни на ней человека она находится на орибте вокруг звезды Альфа Центавра и является единственной из подходящих планет, которую мы можем достичь используя имеющиеся у нас технологии.',\n",
       " 'Я тебя миллион раз спрашивала, с кем ты пишьп и тыл гала мне.',\n",
       " 'И когда я узнала ,что это Джексон, то подумал, что это отличный поворот сюжета.',\n",
       " 'Кому-то кажется, что он видит движущиеся ооньки в небе и вот уже тысячи истерических свидетелей кричат на весь мир и клянутся, что нас атакуют марсиане.',\n",
       " 'Кое-что инкогда не меняется, например, твой почерк.',\n",
       " 'участвовал юодин человек - или ВелиЭкое НачаНло Начал.]']"
      ]
     },
     "execution_count": 371,
     "metadata": {},
     "output_type": "execute_result"
    }
   ],
   "source": [
    "bad_sents[-10:]"
   ]
  },
  {
   "cell_type": "code",
   "execution_count": 373,
   "id": "b8e25f6f",
   "metadata": {},
   "outputs": [],
   "source": [
    "pd.DataFrame({'source':bad_sents, 'target':dataset}).to_csv('data/dataset.csv')"
   ]
  },
  {
   "cell_type": "code",
   "execution_count": null,
   "id": "af61a6ac",
   "metadata": {},
   "outputs": [],
   "source": []
  }
 ],
 "metadata": {
  "kernelspec": {
   "display_name": "Python 3 (ipykernel)",
   "language": "python",
   "name": "python3"
  },
  "language_info": {
   "codemirror_mode": {
    "name": "ipython",
    "version": 3
   },
   "file_extension": ".py",
   "mimetype": "text/x-python",
   "name": "python",
   "nbconvert_exporter": "python",
   "pygments_lexer": "ipython3",
   "version": "3.9.15"
  }
 },
 "nbformat": 4,
 "nbformat_minor": 5
}
